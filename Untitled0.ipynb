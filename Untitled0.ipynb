{
  "nbformat": 4,
  "nbformat_minor": 0,
  "metadata": {
    "colab": {
      "provenance": [],
      "gpuType": "T4",
      "authorship_tag": "ABX9TyNBEhEHnUY+B3/ulsphh+f0",
      "include_colab_link": true
    },
    "kernelspec": {
      "name": "python3",
      "display_name": "Python 3"
    },
    "language_info": {
      "name": "python"
    }
  },
  "cells": [
    {
      "cell_type": "markdown",
      "metadata": {
        "id": "view-in-github",
        "colab_type": "text"
      },
      "source": [
        "<a href=\"https://colab.research.google.com/github/sravyamalladi/ESRGANcolab/blob/main/Untitled0.ipynb\" target=\"_parent\"><img src=\"https://colab.research.google.com/assets/colab-badge.svg\" alt=\"Open In Colab\"/></a>"
      ]
    },
    {
      "cell_type": "code",
      "execution_count": 1,
      "metadata": {
        "colab": {
          "base_uri": "https://localhost:8080/"
        },
        "id": "l5y8xACn7UR7",
        "outputId": "be0fd362-4aba-42bf-87fd-9dbc3410af18"
      },
      "outputs": [
        {
          "output_type": "stream",
          "name": "stdout",
          "text": [
            "Mounted at /content/drive\n"
          ]
        }
      ],
      "source": [
        "from google.colab import drive\n",
        "drive.mount('/content/drive')"
      ]
    },
    {
      "cell_type": "code",
      "source": [
        "cp /content/drive/MyDrive/bleep/Real-ESRGAN-master.zip /content/bloop/Real-ESRGAN-master.zip"
      ],
      "metadata": {
        "id": "UuoJq1xp8uGv"
      },
      "execution_count": 2,
      "outputs": []
    },
    {
      "cell_type": "code",
      "source": [
        "import zipfile\n",
        "\n",
        "\n",
        "zip_ref = zipfile.ZipFile(\"/content/bloop/Real-ESRGAN-master.zip\", 'r')\n",
        "zip_ref.extractall(\"/content/ESRGAN\")\n",
        "zip_ref.close()"
      ],
      "metadata": {
        "id": "UXEzJe1j-0rk"
      },
      "execution_count": 6,
      "outputs": []
    }
  ]
}